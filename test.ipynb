{
 "cells": [
  {
   "cell_type": "code",
   "execution_count": null,
   "metadata": {},
   "outputs": [],
   "source": [
    "import numpy as np\n",
    "\n",
    "a = np.zeros((5,5))\n",
    "b = np.ones((5,5))\n",
    "c = np.multiply(a,b)\n",
    "print(c)"
   ]
  }
 ],
 "metadata": {
  "interpreter": {
   "hash": "99be18f64c1b9653044a998364e1fbdbdda407fbf923b0ef6fa2deb7493fcece"
  },
  "kernelspec": {
   "display_name": "Python 3.9.7 ('tokamak_env': conda)",
   "language": "python",
   "name": "python3"
  },
  "language_info": {
   "name": "python",
   "version": "3.9.7"
  },
  "orig_nbformat": 4
 },
 "nbformat": 4,
 "nbformat_minor": 2
}
